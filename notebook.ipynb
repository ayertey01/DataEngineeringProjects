{
 "cells": [
  {
   "cell_type": "code",
   "execution_count": 3,
   "metadata": {},
   "outputs": [
    {
     "name": "stdout",
     "output_type": "stream",
     "text": [
      "Requirement already satisfied: pyspark in c:\\users\\pc\\deprojects\\.venv\\lib\\site-packages (3.5.3)\n",
      "Requirement already satisfied: py4j==0.10.9.7 in c:\\users\\pc\\deprojects\\.venv\\lib\\site-packages (from pyspark) (0.10.9.7)\n",
      "Note: you may need to restart the kernel to use updated packages.\n"
     ]
    },
    {
     "name": "stderr",
     "output_type": "stream",
     "text": [
      "\n",
      "[notice] A new release of pip is available: 24.2 -> 24.3.1\n",
      "[notice] To update, run: python.exe -m pip install --upgrade pip\n"
     ]
    }
   ],
   "source": [
    "%pip install pyspark"
   ]
  },
  {
   "cell_type": "code",
   "execution_count": 5,
   "metadata": {},
   "outputs": [],
   "source": [
    "import os\n",
    "from pyspark.sql import SparkSession\n",
    "\n",
    "os.environ[\"HADOOP_HOME\"] = \"C:/Program Files/hadoop-3.3.6\"\n",
    "os.environ[\"JAVA_HOME\"] = \"C:/Program Files/Java/jdk-11\"\n",
    "\n",
    "# create session\n",
    "spark = SparkSession.builder.getOrCreate()"
   ]
  },
  {
   "cell_type": "code",
   "execution_count": 6,
   "metadata": {},
   "outputs": [],
   "source": [
    "file_path = \"C:/Users/PC/DEprojects/cards_data.csv\"\n",
    "df = spark.read.csv(file_path,header=True,inferSchema=True)\n",
    "\n",
    "df.createOrReplaceTempView(\"cards\")\n",
    "\n",
    "result = spark.sql(\"Select * from cards\")"
   ]
  },
  {
   "cell_type": "code",
   "execution_count": 8,
   "metadata": {},
   "outputs": [
    {
     "name": "stdout",
     "output_type": "stream",
     "text": [
      "+----+---------+----------+---------------+----------------+-------+---+--------+----------------+------------+--------------+---------------------+----------------+\n",
      "|  id|client_id|card_brand|      card_type|     card_number|expires|cvv|has_chip|num_cards_issued|credit_limit|acct_open_date|year_pin_last_changed|card_on_dark_web|\n",
      "+----+---------+----------+---------------+----------------+-------+---+--------+----------------+------------+--------------+---------------------+----------------+\n",
      "|4524|      825|      Visa|          Debit|4344676511950444|12/2022|623|     YES|               2|      $24295|       09/2002|                 2008|              No|\n",
      "|2731|      825|      Visa|          Debit|4956965974959986|12/2020|393|     YES|               2|      $21968|       04/2014|                 2014|              No|\n",
      "|3701|      825|      Visa|          Debit|4582313478255491|02/2024|719|     YES|               2|      $46414|       07/2003|                 2004|              No|\n",
      "|  42|      825|      Visa|         Credit|4879494103069057|08/2024|693|      NO|               1|      $12400|       01/2003|                 2012|              No|\n",
      "|4659|      825|Mastercard|Debit (Prepaid)|5722874738736011|03/2009| 75|     YES|               1|         $28|       09/2008|                 2009|              No|\n",
      "|4537|     1746|      Visa|         Credit|4404898874682993|09/2003|736|     YES|               1|      $27500|       09/2003|                 2012|              No|\n",
      "|1278|     1746|      Visa|          Debit|4001482973848631|07/2022|972|     YES|               2|      $28508|       02/2011|                 2011|              No|\n",
      "|3687|     1746|Mastercard|          Debit|5627220683410948|06/2022| 48|     YES|               2|       $9022|       07/2003|                 2015|              No|\n",
      "|3465|     1746|Mastercard|Debit (Prepaid)|5711382187309326|11/2020|722|     YES|               2|         $54|       06/2010|                 2015|              No|\n",
      "|3754|     1746|Mastercard|Debit (Prepaid)|5766121508358701|02/2023|908|     YES|               1|         $99|       07/2006|                 2012|              No|\n",
      "|5144|     1718|Mastercard|          Debit|5495199163052054|03/2022|677|     YES|               2|      $31599|       10/2009|                 2009|              No|\n",
      "|2029|     1718|Mastercard|          Debit|5804499644308599|07/2023|258|      NO|               2|      $27480|       03/2002|                 2008|              No|\n",
      "|2379|     1718|Mastercard|          Debit|5766352389579834|02/2020|992|     YES|               1|      $26743|       03/2019|                 2019|              No|\n",
      "|2732|     1718|      Visa|          Debit|4242015583697294|06/2020|928|     YES|               1|      $31463|       04/2014|                 2014|              No|\n",
      "|4706|     1718|Mastercard|          Debit|5191030913182493|06/2024|360|     YES|               1|      $16055|       09/2009|                 2009|              No|\n",
      "| 281|      708|      Visa|         Credit|4017261190134817|05/2015|877|     YES|               2|      $98100|       01/2011|                 2011|              No|\n",
      "|1106|      708|Mastercard|Debit (Prepaid)|5581970288727991|06/2020|448|     YES|               1|         $62|       02/2007|                 2007|              No|\n",
      "|5621|      708|      Visa|          Debit|4032240655674503|06/2022| 53|     YES|               1|     $132439|       11/2010|                 2011|              No|\n",
      "|5165|      708|      Visa|          Debit|4935974646456357|06/2020|649|     YES|               1|     $125723|       10/2009|                 2010|              No|\n",
      "|5757|     1164|Mastercard|          Debit|5905027855347659|01/2022|886|     YES|               1|      $34900|       12/1999|                 2012|              No|\n",
      "+----+---------+----------+---------------+----------------+-------+---+--------+----------------+------------+--------------+---------------------+----------------+\n",
      "only showing top 20 rows\n",
      "\n"
     ]
    }
   ],
   "source": [
    "result.show()"
   ]
  },
  {
   "cell_type": "code",
   "execution_count": null,
   "metadata": {},
   "outputs": [],
   "source": []
  }
 ],
 "metadata": {
  "kernelspec": {
   "display_name": ".venv",
   "language": "python",
   "name": "python3"
  },
  "language_info": {
   "codemirror_mode": {
    "name": "ipython",
    "version": 3
   },
   "file_extension": ".py",
   "mimetype": "text/x-python",
   "name": "python",
   "nbconvert_exporter": "python",
   "pygments_lexer": "ipython3",
   "version": "3.12.6"
  }
 },
 "nbformat": 4,
 "nbformat_minor": 2
}
